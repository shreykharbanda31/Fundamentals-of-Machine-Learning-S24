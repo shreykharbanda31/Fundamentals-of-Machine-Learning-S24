{
 "cells": [
  {
   "cell_type": "markdown",
   "id": "65e57a8b",
   "metadata": {},
   "source": [
    "* * *\n",
    "<pre> NYU Paris            <i> Machine Learning - Summer 2023 </i></pre>\n",
    "* * *\n",
    "\n",
    "\n",
    "<h1 align=\"center\"> Lab: the multilayer perceptron </h1>\n",
    "\n",
    "<pre align=\"left\"> June 07th 2023               <i> Author: Guillaume Staerman </i></pre>\n",
    "* * *\n",
    "\n",
    "\n",
    "##### Goal:\n",
    "- Implement your Multilayer perceptron model"
   ]
  },
  {
   "cell_type": "markdown",
   "id": "5a657681",
   "metadata": {},
   "source": [
    "## Installing and importing Pytorch"
   ]
  },
  {
   "cell_type": "code",
   "execution_count": 4,
   "id": "6767c076",
   "metadata": {},
   "outputs": [],
   "source": [
    "import torch\n",
    "from torchvision import datasets\n",
    "from torchvision.transforms import ToTensor\n",
    "\n",
    "\n",
    "# Versions of torch and torchvision have to be compatible.\n",
    "# check here: https://github.com/pytorch/pytorch/wiki/PyTorch-Versions"
   ]
  },
  {
   "cell_type": "code",
   "execution_count": 5,
   "id": "1aeedfa1",
   "metadata": {},
   "outputs": [],
   "source": [
    "import torchvision"
   ]
  },
  {
   "cell_type": "code",
   "execution_count": 6,
   "id": "db6d62e3",
   "metadata": {},
   "outputs": [
    {
     "name": "stdout",
     "output_type": "stream",
     "text": [
      "2.2.0\n",
      "0.17.0\n"
     ]
    }
   ],
   "source": [
    "print(torch.__version__)\n",
    "print(torchvision.__version__)"
   ]
  },
  {
   "cell_type": "markdown",
   "id": "99193052",
   "metadata": {},
   "source": [
    "### Loading and preparing the MNIST dataset"
   ]
  },
  {
   "cell_type": "code",
   "execution_count": 7,
   "id": "0de880eb",
   "metadata": {},
   "outputs": [
    {
     "name": "stdout",
     "output_type": "stream",
     "text": [
      "Downloading http://yann.lecun.com/exdb/mnist/train-images-idx3-ubyte.gz\n",
      "Downloading http://yann.lecun.com/exdb/mnist/train-images-idx3-ubyte.gz to data/MNIST/raw/train-images-idx3-ubyte.gz\n"
     ]
    },
    {
     "name": "stderr",
     "output_type": "stream",
     "text": [
      "100.0%\n"
     ]
    },
    {
     "name": "stdout",
     "output_type": "stream",
     "text": [
      "Extracting data/MNIST/raw/train-images-idx3-ubyte.gz to data/MNIST/raw\n",
      "\n",
      "Downloading http://yann.lecun.com/exdb/mnist/train-labels-idx1-ubyte.gz\n",
      "Downloading http://yann.lecun.com/exdb/mnist/train-labels-idx1-ubyte.gz to data/MNIST/raw/train-labels-idx1-ubyte.gz\n"
     ]
    },
    {
     "name": "stderr",
     "output_type": "stream",
     "text": [
      "100.0%\n",
      "4.0%"
     ]
    },
    {
     "name": "stdout",
     "output_type": "stream",
     "text": [
      "Extracting data/MNIST/raw/train-labels-idx1-ubyte.gz to data/MNIST/raw\n",
      "\n",
      "Downloading http://yann.lecun.com/exdb/mnist/t10k-images-idx3-ubyte.gz\n",
      "Downloading http://yann.lecun.com/exdb/mnist/t10k-images-idx3-ubyte.gz to data/MNIST/raw/t10k-images-idx3-ubyte.gz\n"
     ]
    },
    {
     "name": "stderr",
     "output_type": "stream",
     "text": [
      "100.0%\n",
      "100.0%\n"
     ]
    },
    {
     "name": "stdout",
     "output_type": "stream",
     "text": [
      "Extracting data/MNIST/raw/t10k-images-idx3-ubyte.gz to data/MNIST/raw\n",
      "\n",
      "Downloading http://yann.lecun.com/exdb/mnist/t10k-labels-idx1-ubyte.gz\n",
      "Downloading http://yann.lecun.com/exdb/mnist/t10k-labels-idx1-ubyte.gz to data/MNIST/raw/t10k-labels-idx1-ubyte.gz\n",
      "Extracting data/MNIST/raw/t10k-labels-idx1-ubyte.gz to data/MNIST/raw\n",
      "\n"
     ]
    }
   ],
   "source": [
    "# Define training and testing data using the functions in the cell above. \n",
    "\n",
    "train_data = datasets.MNIST(\n",
    "    root=\"data\",\n",
    "    train=True,\n",
    "    download=True,\n",
    "    transform=ToTensor()\n",
    ")\n",
    "\n",
    "test_data = datasets.MNIST(\n",
    "    root=\"data\",\n",
    "    train=False,\n",
    "    download=True,\n",
    "    transform=ToTensor()\n",
    ")"
   ]
  },
  {
   "cell_type": "markdown",
   "id": "75119177",
   "metadata": {},
   "source": [
    "## Question 1\n",
    "\n",
    "### Visualize some elements of the dataset:"
   ]
  },
  {
   "cell_type": "code",
   "execution_count": 14,
   "id": "a58802b5",
   "metadata": {},
   "outputs": [
    {
     "name": "stdout",
     "output_type": "stream",
     "text": [
      "torch.Size([60000, 28, 28])\n",
      "torch.Size([10000, 28, 28])\n"
     ]
    },
    {
     "data": {
      "image/png": "[encoded data removed]",
      "text/plain": [
       "<Figure size 800x800 with 3 Axes>"
      ]
     },
     "metadata": {},
     "output_type": "display_data"
    }
   ],
   "source": [
    "import matplotlib.pyplot as plt\n",
    "# Visualize some images of the MNIST dataset\n",
    "# Size of training data\n",
    "print(train_data.data.shape)\n",
    "\n",
    "# Size of testing data\n",
    "print(test_data.data.shape)\n",
    "\n",
    "labels_map = {\n",
    "    0: \"0\",\n",
    "    1: \"1\",\n",
    "    2: \"2\",\n",
    "    3: \"3\",\n",
    "    4: \"4\",\n",
    "    5: \"5\",\n",
    "    6: \"6\",\n",
    "    7: \"7\",\n",
    "    8: \"8\",\n",
    "    9: \"9\",\n",
    "}\n",
    "\n",
    "figure = plt.figure(figsize=(8, 8))\n",
    "cols, rows = 3, 1\n",
    "for i in range(1, cols * rows + 1):\n",
    "    sample_idx = torch.randint(len(train_data), size=(1,)).item()\n",
    "    img, label = train_data[sample_idx]\n",
    "    figure.add_subplot(rows, cols, i)\n",
    "    plt.title(labels_map[label])\n",
    "    plt.axis(\"off\")\n",
    "    plt.imshow(img.squeeze(), cmap=\"gray\")\n",
    "plt.show()"
   ]
  },
  {
   "cell_type": "code",
   "execution_count": 26,
   "id": "3c458a20",
   "metadata": {},
   "outputs": [
    {
     "data": {
      "text/plain": [
       "5"
      ]
     },
     "execution_count": 26,
     "metadata": {},
     "output_type": "execute_result"
    }
   ],
   "source": [
    "train_data.targets[0].item()"
   ]
  },
  {
   "cell_type": "markdown",
   "id": "0f2a9a20",
   "metadata": {},
   "source": [
    "## Question 2\n",
    "\n",
    "### Define a dataloader to construct a batch-wise iterator from your train/test data\n"
   ]
  },
  {
   "cell_type": "code",
   "execution_count": 30,
   "id": "de33cb41",
   "metadata": {},
   "outputs": [],
   "source": [
    "from torch.utils.data import DataLoader\n",
    "\n",
    "BATCH_SIZE = 4\n",
    "trainloader = DataLoader(train_data, BATCH_SIZE, shuffle=True, num_workers=2)\n",
    "testloader = DataLoader(test_data, BATCH_SIZE, shuffle=False, num_workers=2)"
   ]
  },
  {
   "cell_type": "markdown",
   "id": "f805dc4e",
   "metadata": {},
   "source": [
    "## Question 3\n",
    "\n",
    "### Design your own Neural Network"
   ]
  },
  {
   "cell_type": "code",
   "execution_count": 31,
   "id": "ee19c7e6",
   "metadata": {},
   "outputs": [],
   "source": [
    "import torch.nn as nn\n",
    "import torch.nn.functional as F\n",
    "# number of features (len of X cols)\n",
    "input_dim = 28 * 28\n",
    "\n",
    "# number of hidden layers\n",
    "hidden_dim = 256\n",
    "\n",
    "# number of classes (unique of y)\n",
    "output_dim = 10\n",
    "\n",
    "class MLP(nn.Module):\n",
    "    def __init__(self):\n",
    "        super(MLP, self).__init__()\n",
    "        self.linear1 = nn.Linear(input_dim, hidden_dim)\n",
    "        self.linear2 = nn.Linear(hidden_dim, output_dim)\n",
    "\n",
    "\n",
    "    # This is implementing the activation fn relu from x to y_pred\n",
    "    def forward(self, x):\n",
    "        h_relu = F.relu(self.linear1(x))\n",
    "        y_pred = self.linear2(h_relu)\n",
    "        return y_pred"
   ]
  },
  {
   "cell_type": "markdown",
   "id": "fa46e6fb",
   "metadata": {},
   "source": [
    "## Question 4\n",
    "\n",
    "### Train your neural network on the trainloader"
   ]
  },
  {
   "cell_type": "code",
   "execution_count": 32,
   "id": "9549e4dd",
   "metadata": {},
   "outputs": [
    {
     "name": "stdout",
     "output_type": "stream",
     "text": [
      "<bound method Module.parameters of MLP(\n",
      "  (linear1): Linear(in_features=784, out_features=256, bias=True)\n",
      "  (linear2): Linear(in_features=256, out_features=10, bias=True)\n",
      ")>\n",
      "0 0 2.3010761737823486\n",
      "0 2000 2.2771522998809814\n",
      "0 4000 2.247927665710449\n",
      "0 6000 2.17225980758667\n",
      "0 8000 2.1047520637512207\n",
      "0 10000 2.1221508979797363\n",
      "0 12000 1.952239990234375\n",
      "0 14000 1.9139888286590576\n",
      "1 0 1.955619215965271\n",
      "1 2000 1.8699469566345215\n",
      "1 4000 2.0176591873168945\n",
      "1 6000 1.6572014093399048\n",
      "1 8000 1.6108999252319336\n",
      "1 10000 1.5814313888549805\n",
      "1 12000 0.8994532823562622\n",
      "1 14000 1.4864155054092407\n"
     ]
    }
   ],
   "source": [
    "from torch.nn.functional import nll_loss, cross_entropy\n",
    "import torch.optim as optim\n",
    "\n",
    "mlp = MLP()\n",
    "print(mlp.parameters)\n",
    "\n",
    "# Optimizer\n",
    "epochs = 2\n",
    "learning_rate = 1e-6\n",
    "# it's a popular algo, gradient descent for nn\n",
    "optimizer = optim.Adam(mlp.parameters(), lr=learning_rate)\n",
    "\n",
    "# Choice of the loss\n",
    "criterion = cross_entropy # nll_loss\n",
    "\n",
    "losses = []\n",
    "for t in range(epochs):\n",
    "    for i, data in enumerate(trainloader):\n",
    "        inputs, labels = data\n",
    "        \n",
    "        # set optimizer to zero grad to remove previous epoch gradients\n",
    "        optimizer.zero_grad()\n",
    "        \n",
    "        # Evaluate the loss\n",
    "        outputs = mlp(inputs.view(inputs.size(0), -1))\n",
    "        # loss = nll_loss(outputs, labels)\n",
    "        loss = criterion(outputs, labels)\n",
    "        \n",
    "        # backward propagation\n",
    "        loss.backward()\n",
    "        \n",
    "        # One optimization step\n",
    "        optimizer.step()\n",
    "\n",
    "        losses.append(loss.item())\n",
    "        \n",
    "        if not i % 2000:\n",
    "            print(t, i, loss.item())"
   ]
  },
  {
   "cell_type": "markdown",
   "id": "62787efd",
   "metadata": {},
   "source": [
    "## Question 5\n",
    "\n",
    "### Inspect the optimization procedure through the loss (plot the loss), what do you observe?"
   ]
  },
  {
   "cell_type": "code",
   "execution_count": 33,
   "id": "dd5615eb",
   "metadata": {},
   "outputs": [
    {
     "data": {
      "image/png": "[encoded data removed]",
      "text/plain": [
       "<Figure size 640x480 with 1 Axes>"
      ]
     },
     "metadata": {},
     "output_type": "display_data"
    }
   ],
   "source": [
    "plt.plot(losses)\n",
    "plt.title('Training Loss Over Time')\n",
    "plt.xlabel('Iterations')\n",
    "plt.ylabel('Loss')\n",
    "plt.show()"
   ]
  },
  {
   "cell_type": "markdown",
   "id": "9702373f",
   "metadata": {},
   "source": [
    "The graph visualizes the training loss over time. The loss gradually decreases over the 2 epochs, which shows that the model is learning well. The variance is big because of a small batch size."
   ]
  },
  {
   "cell_type": "markdown",
   "id": "0e421890",
   "metadata": {},
   "source": [
    "## Question 6\n",
    "\n",
    "### Evaluate the quality of your classifier on the test set"
   ]
  },
  {
   "cell_type": "code",
   "execution_count": 35,
   "id": "91eddf4d",
   "metadata": {},
   "outputs": [
    {
     "name": "stdout",
     "output_type": "stream",
     "text": [
      "tensor(0.7989)\n"
     ]
    }
   ],
   "source": [
    "size_test = test_data.data.shape[0]\n",
    "\n",
    "correct = 0\n",
    "total = 0\n",
    "for data in testloader:\n",
    "    inputs, labels = data\n",
    "    outputs = mlp(inputs.view(inputs.size(0), -1))\n",
    "    loss, predicted = torch.max(outputs.data, 1)\n",
    "    total += labels.size(0)\n",
    "    correct += (predicted == labels).sum()\n",
    "\n",
    "\n",
    "final_accuracy =  correct/total\n",
    "\n",
    "print(final_accuracy)"
   ]
  },
  {
   "cell_type": "markdown",
   "id": "ebc80a57",
   "metadata": {},
   "source": [
    "Accuracy: 79.89%"
   ]
  },
  {
   "cell_type": "markdown",
   "id": "308cf736",
   "metadata": {},
   "source": [
    "## Question 7 (Bonus)\n",
    "\n",
    "### Repeat this training with different loss (nll/cross_entropy...) and different number of epochs. What do you observe?"
   ]
  },
  {
   "cell_type": "markdown",
   "id": "dccd98d8",
   "metadata": {},
   "source": [
    "1) Trying out the same with 8 epochs instead of 2."
   ]
  },
  {
   "cell_type": "code",
   "execution_count": 43,
   "id": "6990dc64",
   "metadata": {},
   "outputs": [
    {
     "name": "stdout",
     "output_type": "stream",
     "text": [
      "<bound method Module.parameters of MLP(\n",
      "  (linear1): Linear(in_features=784, out_features=256, bias=True)\n",
      "  (linear2): Linear(in_features=256, out_features=10, bias=True)\n",
      ")>\n",
      "0 0 2.3212757110595703\n",
      "0 2000 2.3663249015808105\n",
      "0 4000 2.2449610233306885\n",
      "0 6000 2.266658306121826\n",
      "0 8000 2.1521124839782715\n",
      "0 10000 1.9780579805374146\n",
      "0 12000 2.2875661849975586\n",
      "0 14000 2.000002384185791\n",
      "1 0 1.9128305912017822\n",
      "1 2000 2.040815591812134\n",
      "1 4000 1.8223497867584229\n",
      "1 6000 1.5387853384017944\n",
      "1 8000 1.7170469760894775\n",
      "1 10000 1.5072243213653564\n",
      "1 12000 1.9177080392837524\n",
      "1 14000 1.1841347217559814\n",
      "2 0 1.6986987590789795\n",
      "2 2000 1.167643666267395\n",
      "2 4000 1.3501343727111816\n",
      "2 6000 1.1700923442840576\n",
      "2 8000 1.1569124460220337\n",
      "2 10000 1.0921776294708252\n",
      "2 12000 1.220152497291565\n",
      "2 14000 0.8926056623458862\n",
      "3 0 1.0070669651031494\n",
      "3 2000 1.0918116569519043\n",
      "3 4000 0.973334789276123\n",
      "3 6000 0.9669528007507324\n",
      "3 8000 1.2708148956298828\n",
      "3 10000 1.1038907766342163\n",
      "3 12000 0.8988065719604492\n",
      "3 14000 0.8374214172363281\n",
      "4 0 1.0681284666061401\n",
      "4 2000 0.536824643611908\n",
      "4 4000 0.7318301200866699\n",
      "4 6000 0.8744127154350281\n",
      "4 8000 0.6008148789405823\n",
      "4 10000 0.456283837556839\n",
      "4 12000 0.751363217830658\n",
      "4 14000 1.1792887449264526\n",
      "5 0 0.3263958692550659\n",
      "5 2000 1.3098199367523193\n",
      "5 4000 0.3593536615371704\n",
      "5 6000 1.0339916944503784\n",
      "5 8000 0.9025647044181824\n",
      "5 10000 0.7962910532951355\n",
      "5 12000 0.28289854526519775\n",
      "5 14000 0.19751210510730743\n",
      "6 0 0.8089051246643066\n",
      "6 2000 0.9440490007400513\n",
      "6 4000 0.9680641889572144\n",
      "6 6000 0.8756474852561951\n",
      "6 8000 0.6362571120262146\n",
      "6 10000 0.15747585892677307\n",
      "6 12000 0.6245914697647095\n",
      "6 14000 0.5305320024490356\n",
      "7 0 0.5105689167976379\n",
      "7 2000 0.4511028528213501\n",
      "7 4000 0.3160390853881836\n",
      "7 6000 0.359891414642334\n",
      "7 8000 0.747814953327179\n",
      "7 10000 0.543921947479248\n",
      "7 12000 0.6892591118812561\n",
      "7 14000 0.3593630790710449\n"
     ]
    }
   ],
   "source": [
    "from torch.nn.functional import nll_loss, cross_entropy\n",
    "import torch.optim as optim\n",
    "\n",
    "mlp = MLP()\n",
    "print(mlp.parameters)\n",
    "\n",
    "# Optimizer\n",
    "epochs = 8\n",
    "learning_rate = 1e-6\n",
    "# it's a popular algo, gradient descent for nn\n",
    "optimizer = optim.Adam(mlp.parameters(), lr=learning_rate)\n",
    "\n",
    "# Choice of the loss\n",
    "criterion = cross_entropy # nll_loss\n",
    "\n",
    "losses = []\n",
    "for t in range(epochs):\n",
    "    for i, data in enumerate(trainloader):\n",
    "        inputs, labels = data\n",
    "        \n",
    "        # set optimizer to zero grad to remove previous epoch gradients\n",
    "        optimizer.zero_grad()\n",
    "        \n",
    "        # Evaluate the loss\n",
    "        outputs = mlp(inputs.view(inputs.size(0), -1))\n",
    "        # loss = nll_loss(outputs, labels)\n",
    "        loss = criterion(outputs, labels)\n",
    "        \n",
    "        # backward propagation\n",
    "        loss.backward()\n",
    "        \n",
    "        # One optimization step\n",
    "        optimizer.step()\n",
    "\n",
    "        losses.append(loss.item())\n",
    "        \n",
    "        if not i % 2000:\n",
    "            print(t, i, loss.item())"
   ]
  },
  {
   "cell_type": "code",
   "execution_count": 44,
   "id": "e4597638",
   "metadata": {},
   "outputs": [
    {
     "data": {
      "image/png": "[encoded data removed]",
      "text/plain": [
       "<Figure size 640x480 with 1 Axes>"
      ]
     },
     "metadata": {},
     "output_type": "display_data"
    }
   ],
   "source": [
    "plt.plot(losses)\n",
    "plt.title('Training Loss Over Time (with 8 epoches)')\n",
    "plt.xlabel('Iterations')\n",
    "plt.ylabel('Loss')\n",
    "plt.show()"
   ]
  },
  {
   "cell_type": "code",
   "execution_count": 45,
   "id": "8100a15a",
   "metadata": {},
   "outputs": [
    {
     "name": "stdout",
     "output_type": "stream",
     "text": [
      "tensor(0.8749)\n"
     ]
    }
   ],
   "source": [
    "size_test = test_data.data.shape[0]\n",
    "\n",
    "correct = 0\n",
    "total = 0\n",
    "for data in testloader:\n",
    "    inputs, labels = data\n",
    "    outputs = mlp(inputs.view(inputs.size(0), -1))\n",
    "    loss, predicted = torch.max(outputs.data, 1)\n",
    "    total += labels.size(0)\n",
    "    correct += (predicted == labels).sum()\n",
    "\n",
    "\n",
    "final_accuracy =  correct/total\n",
    "\n",
    "print(final_accuracy)"
   ]
  },
  {
   "cell_type": "markdown",
   "id": "9419c169",
   "metadata": {},
   "source": [
    "Observation:\n",
    "With 8 epochs in consideration, the graph descends and becomes very densely flat towards the end, which probably indicates gradual convergence compared to when we just had 2 epochs.\n",
    "\n",
    "However, after considering more epochs, there's an increase in accuracy (by 10% approx.)."
   ]
  },
  {
   "cell_type": "markdown",
   "id": "2c969d1b",
   "metadata": {},
   "source": [
    "2) Trying out nll_loss instead of cross_entropy, I have to softmax it separately here since it's not included in the loss function."
   ]
  },
  {
   "cell_type": "code",
   "execution_count": 46,
   "id": "6a13d695",
   "metadata": {},
   "outputs": [
    {
     "name": "stdout",
     "output_type": "stream",
     "text": [
      "<bound method Module.parameters of MLP(\n",
      "  (linear1): Linear(in_features=784, out_features=256, bias=True)\n",
      "  (linear2): Linear(in_features=256, out_features=10, bias=True)\n",
      ")>\n",
      "0 0 2.3228917121887207\n",
      "0 2000 2.2555174827575684\n",
      "0 4000 2.172224283218384\n",
      "0 6000 2.1507151126861572\n",
      "0 8000 2.160895347595215\n",
      "0 10000 2.032681941986084\n",
      "0 12000 1.9338939189910889\n",
      "0 14000 1.8003383874893188\n",
      "1 0 1.9562649726867676\n",
      "1 2000 1.977921724319458\n",
      "1 4000 1.6360936164855957\n",
      "1 6000 1.5711302757263184\n",
      "1 8000 1.8288006782531738\n",
      "1 10000 1.3380441665649414\n",
      "1 12000 1.0845186710357666\n",
      "1 14000 1.110642433166504\n"
     ]
    }
   ],
   "source": [
    "from torch.nn.functional import nll_loss, cross_entropy\n",
    "import torch.optim as optim\n",
    "\n",
    "mlp = MLP()\n",
    "print(mlp.parameters)\n",
    "\n",
    "# Optimizer\n",
    "epochs = 2\n",
    "learning_rate = 1e-6\n",
    "# it's a popular algo, gradient descent for nn\n",
    "optimizer = optim.Adam(mlp.parameters(), lr=learning_rate)\n",
    "\n",
    "# Choice of the loss\n",
    "criterion = nn.NLLLoss() # nll_loss\n",
    "\n",
    "losses = []\n",
    "for t in range(epochs):\n",
    "    for i, data in enumerate(trainloader):\n",
    "        inputs, labels = data\n",
    "        \n",
    "        # set optimizer to zero grad to remove previous epoch gradients\n",
    "        optimizer.zero_grad()\n",
    "        \n",
    "        # Evaluate the loss\n",
    "        outputs = mlp(inputs.view(inputs.size(0), -1))\n",
    "        # loss = nll_loss(outputs, labels)\n",
    "        loss = criterion(F.log_softmax(outputs, dim=1), labels)\n",
    "        \n",
    "        # backward propagation\n",
    "        loss.backward()\n",
    "        \n",
    "        # One optimization step\n",
    "        optimizer.step()\n",
    "\n",
    "        losses.append(loss.item())\n",
    "        \n",
    "        if not i % 2000:\n",
    "            print(t, i, loss.item())"
   ]
  },
  {
   "cell_type": "code",
   "execution_count": 47,
   "id": "4ef6e688",
   "metadata": {},
   "outputs": [
    {
     "data": {
      "image/png": "[encoded data removed]",
      "text/plain": [
       "<Figure size 640x480 with 1 Axes>"
      ]
     },
     "metadata": {},
     "output_type": "display_data"
    }
   ],
   "source": [
    "plt.plot(losses)\n",
    "plt.title('Training Loss Over Time (with NLL Loss)')\n",
    "plt.xlabel('Iterations')\n",
    "plt.ylabel('Loss')\n",
    "plt.show()"
   ]
  },
  {
   "cell_type": "code",
   "execution_count": 48,
   "id": "d9e74e24",
   "metadata": {},
   "outputs": [
    {
     "name": "stdout",
     "output_type": "stream",
     "text": [
      "tensor(0.7882)\n"
     ]
    }
   ],
   "source": [
    "size_test = test_data.data.shape[0]\n",
    "\n",
    "correct = 0\n",
    "total = 0\n",
    "for data in testloader:\n",
    "    inputs, labels = data\n",
    "    outputs = mlp(inputs.view(inputs.size(0), -1))\n",
    "    loss, predicted = torch.max(outputs.data, 1)\n",
    "    total += labels.size(0)\n",
    "    correct += (predicted == labels).sum()\n",
    "\n",
    "\n",
    "final_accuracy =  correct/total\n",
    "\n",
    "print(final_accuracy)"
   ]
  },
  {
   "cell_type": "markdown",
   "id": "103b8eea",
   "metadata": {},
   "source": [
    "Observation: This graph steeps down very rapidly in comparison. However, there is no major difference in the accuracy when compared to the first model (about 1% difference). "
   ]
  },
  {
   "cell_type": "markdown",
   "id": "2f00a42a",
   "metadata": {},
   "source": [
    "3) NLL Loss with no Soft Maxing"
   ]
  },
  {
   "cell_type": "code",
   "execution_count": 52,
   "id": "2d23535e",
   "metadata": {},
   "outputs": [
    {
     "name": "stdout",
     "output_type": "stream",
     "text": [
      "<bound method Module.parameters of MLP(\n",
      "  (linear1): Linear(in_features=784, out_features=256, bias=True)\n",
      "  (linear2): Linear(in_features=256, out_features=10, bias=True)\n",
      ")>\n",
      "0 0 0.04340941458940506\n",
      "0 2000 -0.17101016640663147\n",
      "0 4000 -0.24826225638389587\n",
      "0 6000 -0.4605608880519867\n",
      "0 8000 -0.5566942691802979\n",
      "0 10000 -0.8049256801605225\n",
      "0 12000 -1.1936957836151123\n",
      "0 14000 -1.796215534210205\n",
      "1 0 -1.774362325668335\n",
      "1 2000 -1.857283592224121\n",
      "1 4000 -2.692103624343872\n",
      "1 6000 -3.0672621726989746\n",
      "1 8000 -3.5203070640563965\n",
      "1 10000 -3.47078275680542\n",
      "1 12000 -3.807504653930664\n",
      "1 14000 -3.8605899810791016\n"
     ]
    }
   ],
   "source": [
    "from torch.nn.functional import nll_loss, cross_entropy\n",
    "import torch.optim as optim\n",
    "\n",
    "mlp = MLP()\n",
    "print(mlp.parameters)\n",
    "\n",
    "# Optimizer\n",
    "epochs = 2\n",
    "learning_rate = 1e-6\n",
    "# it's a popular algo, gradient descent for nn\n",
    "optimizer = optim.Adam(mlp.parameters(), lr=learning_rate)\n",
    "\n",
    "# Choice of the loss\n",
    "criterion = nn.NLLLoss() # nll_loss\n",
    "\n",
    "losses = []\n",
    "for t in range(epochs):\n",
    "    for i, data in enumerate(trainloader):\n",
    "        inputs, labels = data\n",
    "        \n",
    "        # set optimizer to zero grad to remove previous epoch gradients\n",
    "        optimizer.zero_grad()\n",
    "        \n",
    "        # Evaluate the loss\n",
    "        outputs = mlp(inputs.view(inputs.size(0), -1))\n",
    "        # loss = nll_loss(outputs, labels)\n",
    "        loss = criterion(outputs, labels)\n",
    "        \n",
    "        # backward propagation\n",
    "        loss.backward()\n",
    "        \n",
    "        # One optimization step\n",
    "        optimizer.step()\n",
    "\n",
    "        losses.append(loss.item())\n",
    "        \n",
    "        if not i % 2000:\n",
    "            print(t, i, loss.item())"
   ]
  },
  {
   "cell_type": "code",
   "execution_count": 53,
   "id": "e3040e7a",
   "metadata": {},
   "outputs": [
    {
     "data": {
      "image/png": "[encoded data removed]",
      "text/plain": [
       "<Figure size 640x480 with 1 Axes>"
      ]
     },
     "metadata": {},
     "output_type": "display_data"
    }
   ],
   "source": [
    "plt.plot(losses)\n",
    "plt.title('Training Loss Over Time (with NLL Loss (with no softmaxing))')\n",
    "plt.xlabel('Iterations')\n",
    "plt.ylabel('Loss')\n",
    "plt.show()"
   ]
  },
  {
   "cell_type": "code",
   "execution_count": 54,
   "id": "c5c61fab",
   "metadata": {},
   "outputs": [
    {
     "name": "stdout",
     "output_type": "stream",
     "text": [
      "tensor(0.4320)\n"
     ]
    }
   ],
   "source": [
    "size_test = test_data.data.shape[0]\n",
    "\n",
    "correct = 0\n",
    "total = 0\n",
    "for data in testloader:\n",
    "    inputs, labels = data\n",
    "    outputs = mlp(inputs.view(inputs.size(0), -1))\n",
    "    loss, predicted = torch.max(outputs.data, 1)\n",
    "    total += labels.size(0)\n",
    "    correct += (predicted == labels).sum()\n",
    "\n",
    "\n",
    "final_accuracy =  correct/total\n",
    "\n",
    "print(final_accuracy)"
   ]
  },
  {
   "cell_type": "markdown",
   "id": "03f7cf52",
   "metadata": {},
   "source": [
    "Observation: When I perform nll loss without softmaxing separately, the accuracy is reduced by 50%, because of incorrect calculations and this shows that softmaxing is an essential step to compute the gradients correctly."
   ]
  }
 ],
 "metadata": {
  "kernelspec": {
   "display_name": "Python 3.10.6 64-bit",
   "language": "python",
   "name": "python3"
  },
  "language_info": {
   "codemirror_mode": {
    "name": "ipython",
    "version": 3
   },
   "file_extension": ".py",
   "mimetype": "text/x-python",
   "name": "python",
   "nbconvert_exporter": "python",
   "pygments_lexer": "ipython3",
   "version": "3.10.6"
  },
  "vscode": {
   "interpreter": {
    "hash": "aee8b7b246df8f9039afb4144a1f6fd8d2ca17a180786b69acc140d282b71a49"
   }
  }
 },
 "nbformat": 4,
 "nbformat_minor": 5
}
